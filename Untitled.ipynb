{
 "cells": [
  {
   "cell_type": "code",
   "execution_count": 50,
   "metadata": {},
   "outputs": [
    {
     "data": {
      "text/html": [
       "        <script type=\"text/javascript\">\n",
       "        window.PlotlyConfig = {MathJaxConfig: 'local'};\n",
       "        if (window.MathJax) {MathJax.Hub.Config({SVG: {font: \"STIX-Web\"}});}\n",
       "        if (typeof require !== 'undefined') {\n",
       "        require.undef(\"plotly\");\n",
       "        requirejs.config({\n",
       "            paths: {\n",
       "                'plotly': ['https://cdn.plot.ly/plotly-latest.min']\n",
       "            }\n",
       "        });\n",
       "        require(['plotly'], function(Plotly) {\n",
       "            window._Plotly = Plotly;\n",
       "        });\n",
       "        }\n",
       "        </script>\n",
       "        "
      ]
     },
     "metadata": {},
     "output_type": "display_data"
    }
   ],
   "source": [
    "import numpy as np\n",
    "import pandas as pd\n",
    "import eikon as ek\n",
    "import config\n",
    "ek.set_app_key(config.eikon_key)\n",
    "import cufflinks as cf\n",
    "import configparser as cp\n",
    "cf.set_config_file(offline = True)\n",
    "import datetime\n",
    "from datetime import timedelta\n",
    "from pandas.tseries.offsets import BDay\n",
    "import plotly.graph_objects as go\n",
    "import plotly.io as pio"
   ]
  },
  {
   "cell_type": "code",
   "execution_count": 47,
   "metadata": {},
   "outputs": [
    {
     "ename": "SyntaxError",
     "evalue": "invalid syntax (<ipython-input-47-f0a5766f87d1>, line 3)",
     "output_type": "error",
     "traceback": [
      "\u001b[1;36m  File \u001b[1;32m\"<ipython-input-47-f0a5766f87d1>\"\u001b[1;36m, line \u001b[1;32m3\u001b[0m\n\u001b[1;33m    five_yrs =\u001b[0m\n\u001b[1;37m               ^\u001b[0m\n\u001b[1;31mSyntaxError\u001b[0m\u001b[1;31m:\u001b[0m invalid syntax\n"
     ]
    }
   ],
   "source": [
    "##### Preset Dates\n",
    "#today = datetime.datetime.now().date()\n",
    "#five_yrs = \n"
   ]
  },
  {
   "cell_type": "code",
   "execution_count": 125,
   "metadata": {},
   "outputs": [],
   "source": [
    "def get_dat():\n",
    "    idx_rics = ['.SPX', '.XNDX', '.RUMTU', '.RUT', '.STOXX', '.N225E', '.dMIWD00000PUS', '.dMIWU00000PUS', '.dMIEA00000PUS', '.dMIEF00000PUS',\n",
    "                'XLC', 'XLY', 'XLP', 'XLE', 'XLF', 'XLV', 'XLI', 'XLB', 'XLRE.K', 'XLK', 'XLU', 'VLUE.K', 'QUAL.K', 'MTUM.K', 'SIZE.K', 'USMV.K', 'SPY']\n",
    "    fields = [ek.TR_Field('DSPLY_NAME'), ek.TR_Field('TR.PricePctChg1D'), ek.TR_Field('TR.PricePctChgMTD'), ek.TR_Field('TR.PricePctChgQTD'),\n",
    "              ek.TR_Field('TR.PricePctChgYTD'), ek.TR_Field('TR.TotalReturnYTD')]\n",
    "    j = ek.get_data(idx_rics, fields)[0]\n",
    "    j.to_csv('master_ytd.csv',index = False)\n",
    "    \n",
    "    hold = ek.get_data('SPY', fields = ek.TR_Field('TR.ETPConstituentRIC'))[0]\n",
    "    hold = hold[hold['Constituent RIC'] != 'GOOG.OQ']\n",
    "    rics = [x for x in hold['Constituent RIC']]\n",
    "    if 'GOOG.OQ' in rics == True:\n",
    "        rics.remove('GOOG.OQ')\n",
    "\n",
    "    fields = [ek.TR_Field('CF_NAME'), ek.TR_Field('TR.TotalReturnYTD'), ek.TR_Field('TR.CompanyMarketCap'), ek.TR_Field('TR.GICSSector')]          \n",
    "    master_stock = ek.get_data(rics, fields)[0]\n",
    "    master_stock.to_csv('master_stoc.csv', index = False)\n",
    "                                        \n",
    "    \n",
    "    return \n",
    "    "
   ]
  },
  {
   "cell_type": "code",
   "execution_count": 113,
   "metadata": {},
   "outputs": [],
   "source": [
    "#Indices to date \n",
    "def index_todate(master):\n",
    "    t = pd.read_csv(master)\n",
    "    idx_rics = ['.SPX', '.XNDX', '.RUMTU', '.RUT', '.STOXX', '.N225E', '.dMIWD00000PUS', '.dMIWU00000PUS', '.dMIEA00000PUS', '.dMIEF00000PUS']\n",
    "    j = t[t['Instrument'].isin(idx_rics)]\n",
    "    to_Date = j.rename(columns = {'1-day Price PCT Change': 'One Day(%)', 'MTD Price PCT Change':'MTD(%)','QTD Price PCT Change':'QTD(%)','YTD Price PCT Change':'YTD(%)'})\n",
    "    to_Date = to_Date.rename(columns = {'DSPLY_NAME': 'Index'})\n",
    "    to_Date['Name'] = ['S&P 500', 'NASDAQ', 'Russell Mid Cap', 'Russell 2000', 'EuroStoxx 600', 'Nikkei 225', 'MSCI All Country World', \"MSCI All Country World ex US\",\n",
    "                      \"MSCI EAFE\", \"MSCI Emmerging Markets\"]\n",
    "    to_Date = to_Date.drop(['Instrument', 'Index'], axis = 1)\n",
    "    df_1 = to_Date.round(2)\n",
    "    df_1 = df_1.filter(['Name', 'One Day(%)', 'MTD(%)', 'QTD(%)', 'YTD(%)'])\n",
    "    df_1.to_csv('df_1.csv')\n",
    "    \n",
    "    return\n"
   ]
  },
  {
   "cell_type": "code",
   "execution_count": 114,
   "metadata": {},
   "outputs": [],
   "source": [
    "master = 'master_ytd.csv'\n",
    "index_todate(master)"
   ]
  },
  {
   "cell_type": "code",
   "execution_count": 115,
   "metadata": {},
   "outputs": [],
   "source": [
    "\n",
    "def sectors_todate(master):\n",
    "    idx_rics = ['XLC', 'XLY', 'XLP', 'XLE', 'XLF', 'XLV', 'XLI', 'XLB', 'XLRE.K', 'XLK', 'XLU', 'SPY']\n",
    "    t = pd.read_csv(master)\n",
    "    s = t[t['Instrument'].isin(idx_rics)]\n",
    "    sectors = ['Communications', 'Discretionary', 'Staples', 'Energy', 'Financials', 'Health Care', 'Industrials',\n",
    "              'Materials', 'Real Estate', 'Tech', 'Utilities', 'S&P 500 (SPY)']\n",
    "\n",
    "    sector_todate = s.rename(columns = {'1-day Price PCT Change': 'One Day(%)', 'MTD Price PCT Change':'MTD(%)','QTD Price PCT Change':'QTD(%)','YTD Total Return':'YTD(%)'})\n",
    "    df_3 = sector_todate\n",
    "    df_3['Sector'] = sectors\n",
    "    df_3 = df_3.filter(['Sector', 'One Day(%)', 'MTD(%)', 'QTD(%)', 'YTD(%)'])\n",
    "    df_3.to_csv('df_3.csv')\n",
    "    return"
   ]
  },
  {
   "cell_type": "code",
   "execution_count": 116,
   "metadata": {},
   "outputs": [],
   "source": [
    "sectors_todate(master)"
   ]
  },
  {
   "cell_type": "code",
   "execution_count": 117,
   "metadata": {},
   "outputs": [],
   "source": [
    "def factors_todate(master):\n",
    "    fac_rics = ['VLUE.K', 'QUAL.K', 'MTUM.K', 'SIZE.K', 'USMV.K', 'SPY']\n",
    "    t = pd.read_csv(master)\n",
    "    fcs = t[t['Instrument'].isin(fac_rics)]    \n",
    "    factors_df = fcs.rename(columns = {'1-day Price PCT Change': 'One Day(%)', 'MTD Price PCT Change':'MTD(%)','QTD Price PCT Change':'QTD(%)','YTD Total Return':'YTD(%)'})\n",
    "    factors = ['Value', 'Quality', 'Momentum', 'Size', 'Low Vol', 'S&P 500 (SPY)']\n",
    "    factors_df['Factors'] = factors\n",
    "    factors_df_2 = factors_df.filter(['Factors', 'One Day(%)', 'MTD(%)', 'QTD(%)', 'YTD(%)'])\n",
    "    df_5 = factors_df_2\n",
    "    df_5.to_csv('df_5.csv')\n",
    "    return\n",
    "    "
   ]
  },
  {
   "cell_type": "code",
   "execution_count": 118,
   "metadata": {},
   "outputs": [],
   "source": [
    "factors_todate(master)"
   ]
  },
  {
   "cell_type": "code",
   "execution_count": 119,
   "metadata": {},
   "outputs": [],
   "source": [
    "\n",
    "    "
   ]
  },
  {
   "cell_type": "code",
   "execution_count": 126,
   "metadata": {},
   "outputs": [],
   "source": [
    "get_dat()"
   ]
  },
  {
   "cell_type": "code",
   "execution_count": null,
   "metadata": {},
   "outputs": [],
   "source": []
  }
 ],
 "metadata": {
  "kernelspec": {
   "display_name": "Python 3",
   "language": "python",
   "name": "python3"
  },
  "language_info": {
   "codemirror_mode": {
    "name": "ipython",
    "version": 3
   },
   "file_extension": ".py",
   "mimetype": "text/x-python",
   "name": "python",
   "nbconvert_exporter": "python",
   "pygments_lexer": "ipython3",
   "version": "3.7.9"
  }
 },
 "nbformat": 4,
 "nbformat_minor": 4
}
